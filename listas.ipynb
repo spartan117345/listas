{
  "nbformat": 4,
  "nbformat_minor": 0,
  "metadata": {
    "colab": {
      "provenance": [],
      "authorship_tag": "ABX9TyOmPRkFRzI08IYWdKub+69T",
      "include_colab_link": true
    },
    "kernelspec": {
      "name": "python3",
      "display_name": "Python 3"
    },
    "language_info": {
      "name": "python"
    }
  },
  "cells": [
    {
      "cell_type": "markdown",
      "metadata": {
        "id": "view-in-github",
        "colab_type": "text"
      },
      "source": [
        "<a href=\"https://colab.research.google.com/github/spartan117345/listas/blob/main/listas.ipynb\" target=\"_parent\"><img src=\"https://colab.research.google.com/assets/colab-badge.svg\" alt=\"Open In Colab\"/></a>"
      ]
    },
    {
      "cell_type": "markdown",
      "source": [
        "\n",
        "# listas\n",
        "\n",
        "- una lista hace refenrencia a una collecion de datos que pueden ser numeros, cadenas o algun otro tipo.\n",
        "\n",
        "- son colleciones ordenadas de datos lo que implica que importa el orden el el cual se encuentran sus elementos.\n",
        "\n",
        "- el primer elemento ocupa la posicion 0, el segundo la 1, y asi sucesivamente\n",
        "\n",
        "- son mutables: una ves creada la lista, esta puede medificarse, se le pueden agregar o quitar elementos.\n",
        "\n",
        "- en python estan representadas por el tipo ***list*** y para definirlas se utilza la siguiente sintáxis:\n",
        "\n",
        "`nombre_lista=[valor1, valor2...., valorn]`\n",
        "\n",
        "- los elementos pueden se de cualquier tipo, incluso pueden haber tipos diferentes en una misma lista.\n",
        "\n",
        "- tambien es posible crear usando el constructor `list()`\n"
      ],
      "metadata": {
        "id": "Uh3K3-YwCvzx"
      }
    },
    {
      "cell_type": "code",
      "execution_count": 21,
      "metadata": {
        "colab": {
          "base_uri": "https://localhost:8080/"
        },
        "collapsed": true,
        "id": "Kq89CG7OCdjL",
        "outputId": "cb77ab14-da4e-4f1a-9fed-bd197f6e78f1"
      },
      "outputs": [
        {
          "output_type": "stream",
          "name": "stdout",
          "text": [
            "['lunes', 'martes', 'miercoles', 'jueves', 'viernes']\n",
            "['rojo', 'azul', 'amarillo']\n",
            "[205.3, 107.18, 25, 450, 310.89, 170.23, 340]\n",
            "<class 'list'>\n",
            "[0, 2, 4, 6, 8, 10, 12, 14, 16, 18, 20, 22, 24, 26, 28]\n",
            "[29, 27, 25, 23, 21, 19, 17, 15, 13, 11, 9, 7, 5, 3, 1]\n",
            "['n', 'é', 's', 't', 'o', 'r', ' ', 'j', 'e', 's', 'ú', 's']\n",
            "['néstor', 'jesús', 'páez', 'sarmiento']\n"
          ]
        }
      ],
      "source": [
        "# ejemplo 1\n",
        "\n",
        "\n",
        "\n",
        "# =========================================================================\n",
        "# usando los [] y dando valores para inicializar las listas\n",
        "#==========================================================================\n",
        "\n",
        "dias_laborables=['lunes', 'martes', 'miercoles', 'jueves', 'viernes']\n",
        "print(dias_laborables)\n",
        "\n",
        "\n",
        "colores_primarios=['rojo', 'azul', 'amarillo']\n",
        "print(colores_primarios)\n",
        "\n",
        "\n",
        "precios=[205.30, 107.18, 25, 450, 310.89, 170.23, 340]\n",
        "print(precios)\n",
        "print((type(precios)))\n",
        "\n",
        "mezcolanza=[12, 'octubre', 1942, True]\n",
        "lista_vacia=[]\n",
        "\n",
        "\n",
        "# =========================================================================\n",
        "# usando el constructor list()\n",
        "#==========================================================================\n",
        "lista_vacia_2=list()\n",
        "lista_3=list(range(0, 30, 2))\n",
        "print(lista_3)\n",
        "\n",
        "lista_4=list(range(29,0,-2))\n",
        "print(lista_4)\n",
        "\n",
        "lista_5=list('julián camilo')\n",
        "print(lista_5)\n",
        "\n",
        "frase='néstor jesús páez sarmiento'\n",
        "lista_6=frase.split()\n",
        "print(lista_6)"
      ]
    },
    {
      "cell_type": "markdown",
      "source": [
        "## operaciones\n",
        "\n",
        "### operador +\n",
        "\n",
        "- concatenar o pegar los elementos de una lista al final de otra.\n",
        "\n",
        "### operador *\n",
        "\n",
        "- se utiliza para repetir la secuencia de elementos de la lista tantas vecese como lo indique el valor que acompaña el operador.\n",
        "\n"
      ],
      "metadata": {
        "id": "RdjKRcjoQvLN"
      }
    },
    {
      "cell_type": "code",
      "source": [
        "dias_laborables=['lunes', 'martes', 'miercoles', 'jueves', 'viernes']\n",
        "\n",
        "colores_primarios=['rojo', 'azul', 'amarillo']\n",
        "\n",
        "precios=[205.30, 107.18, 25, 450, 310.89, 170.23, 340]\n",
        "\n",
        "# acceso a los elementos de una lista\n",
        "\n",
        "print(dias_laborables[0])\n",
        "print(dias_laborables[-1])\n",
        "print(dias_laborables[-5])\n",
        "\n",
        "# operador +\n",
        "\n",
        "fin_semana = [\"sabado\", \"domigo\"]\n",
        "semana = dias_laborables + fin_semana\n",
        "print(semana)\n",
        "\n",
        "# operador *\n",
        "n=int(input(\"dijite el numer: \"))\n",
        "colores_repetidos=colores_primarios * n\n",
        "print(colores_repetidos)\n"
      ],
      "metadata": {
        "colab": {
          "base_uri": "https://localhost:8080/"
        },
        "collapsed": true,
        "id": "6ZMrCCFwNGfW",
        "outputId": "0b85c6b0-2cd5-4417-e988-7f0d468e5597"
      },
      "execution_count": 38,
      "outputs": [
        {
          "output_type": "stream",
          "name": "stdout",
          "text": [
            "lunes\n",
            "viernes\n",
            "lunes\n",
            "['lunes', 'martes', 'miercoles', 'jueves', 'viernes', 'sabado', 'domigo']\n",
            "dijite el numer: 1\n",
            "['rojo', 'azul', 'amarillo']\n"
          ]
        }
      ]
    },
    {
      "cell_type": "markdown",
      "source": [
        "## funciones asociadas a listas"
      ],
      "metadata": {
        "id": "vjhEE0FwUIjq"
      }
    },
    {
      "cell_type": "code",
      "source": [
        "from ast import parse\n",
        "dias_laborables=['lunes', 'martes', 'miercoles', 'jueves', 'viernes']\n",
        "\n",
        "colores_primarios=['rojo', 'azul', 'amarillo']\n",
        "\n",
        "precios=[205.30, 107.18, 25, 450, 310.89, 170.23, 340]\n",
        "\n",
        "parse=list(range(0, 30, 2))\n",
        "\n",
        "impares=list(range(29,0,-2))\n",
        "\n",
        "colores_repetidos=colores_primarios * 3\n",
        "\n",
        "# append(): agrega un elemento al final de la lista\n",
        "\n",
        "dias_laborables.append('sabado')\n",
        "print(dias_laborables)\n",
        "\n",
        "# len(): total de elementos de la lista\n",
        "\n",
        "print(\"total de precios = \" , len(precios))\n",
        "\n",
        "# count(): cuenta el numero de veces que aparece un elemento en la lista\n",
        "\n",
        "print(f\"el lunes aparece {dias_laborables.count('lunes')} vez(veces)\")\n",
        "\n",
        "# inssert(): agrega en la posicion indicada por el indice del nuevo valor desplasando los demas elementos hacia la derecha, si el indice es mayor que el tamaño de la lista lo manda al final\n",
        "\n",
        "colores_primarios.insert(2, \"verde\")\n",
        "print(colores_primarios)\n",
        "\n",
        "# remove(): quita el elemento de la lista, si el elemento no esta manda un error.\n",
        "\n",
        "dias_laborables.remove(\"sabado\")\n",
        "print(dias_laborables)\n",
        "\n",
        "# sort(): ordena la lista de menor a mayor\n",
        "\n",
        "precios.sort()\n",
        "print(precios)\n",
        "\n",
        "precios.sort(reverse=True)\n",
        "print(precios)\n",
        "\n",
        "# reverse():\n",
        "\n",
        "dias_laborables.reverse()\n",
        "print(dias_laborables)\n",
        "\n",
        "# pop():\n",
        "\n",
        "colores_primarios.pop(2)\n",
        "print(colores_primarios)\n",
        "\n",
        "# clear():\n",
        "precios.clear()\n",
        "print(precios)\n",
        "\n",
        "# del():\n",
        "\n",
        "fin_semana = [\"sabado\", \"domigo\"]\n",
        "del fin_semana[1]\n",
        "print(fin_semana)"
      ],
      "metadata": {
        "colab": {
          "base_uri": "https://localhost:8080/"
        },
        "collapsed": true,
        "id": "Xr7K1tFAUU8u",
        "outputId": "d9cb3813-2313-42bc-ae4d-1b45934b66c3"
      },
      "execution_count": 48,
      "outputs": [
        {
          "output_type": "stream",
          "name": "stdout",
          "text": [
            "['lunes', 'martes', 'miercoles', 'jueves', 'viernes', 'sabado']\n",
            "total de precios =  7\n",
            "el lunes aparece 1 vez(veces)\n",
            "['rojo', 'azul', 'verde', 'amarillo']\n",
            "['lunes', 'martes', 'miercoles', 'jueves', 'viernes']\n",
            "[25, 107.18, 170.23, 205.3, 310.89, 340, 450]\n",
            "[450, 340, 310.89, 205.3, 170.23, 107.18, 25]\n",
            "['viernes', 'jueves', 'miercoles', 'martes', 'lunes']\n",
            "['rojo', 'azul', 'amarillo']\n",
            "[]\n",
            "['sabado']\n"
          ]
        }
      ]
    },
    {
      "cell_type": "markdown",
      "source": [
        "## particion y division de listas(slicing o rebanadas)\n",
        "\n",
        "- se pueden generar sublistas apartir de una lista por medio de la partcion(division) o slicing.\n",
        "\n",
        "- para obtener una sublista se usa la sintaxis:\n",
        "\n",
        "`sublista=lista[inicio:fin:n]`\n"
      ],
      "metadata": {
        "id": "w8ev9cbef4B2"
      }
    },
    {
      "cell_type": "code",
      "source": [
        "# se crea una lista de numeros enteros\n",
        "\n",
        "lista_1=[1,2,3,4,5,6]\n",
        "\n",
        "sublista_1 = lista_1[0:3]\n",
        "print(sublista_1)\n",
        "\n",
        "# sublista con los elementos del 0 a la 3 inclusive\n",
        "sublista_2=lista_1[:4]\n",
        "print(sublista_2)\n",
        "# sublista con los elementos 3 a la 5 inclusive\n",
        "sublista_3=lista_1[3:]\n",
        "print(sublista_3)\n",
        "# sublista con los elementos desde el inicio hasta el final con salto de a 2\n",
        "sublista_4=lista_1[::2]\n",
        "print(sublista_4)"
      ],
      "metadata": {
        "colab": {
          "base_uri": "https://localhost:8080/"
        },
        "id": "SklnkzxigjpU",
        "outputId": "572c2215-429e-438b-d0ef-45804b2cee4f"
      },
      "execution_count": 56,
      "outputs": [
        {
          "output_type": "stream",
          "name": "stdout",
          "text": [
            "[1, 2, 3]\n",
            "[1, 2, 3, 4]\n",
            "[4, 5, 6]\n",
            "[1, 3, 5]\n"
          ]
        }
      ]
    }
  ]
}